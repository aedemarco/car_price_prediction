{
  "cells": [
    {
      "cell_type": "code",
      "execution_count": 3,
      "metadata": {
        "id": "Zcy7xavgR54-"
      },
      "outputs": [],
      "source": [
        "import pandas as pd\n",
        "import numpy as np\n",
        "from sklearn.model_selection import train_test_split\n",
        "from sklearn.preprocessing import StandardScaler, OneHotEncoder\n",
        "from sklearn.compose import ColumnTransformer\n",
        "from sklearn.pipeline import Pipeline\n",
        "from sklearn.ensemble import RandomForestRegressor\n",
        "from sklearn.metrics import mean_squared_error, r2_score"
      ]
    },
    {
      "cell_type": "code",
      "execution_count": 14,
      "metadata": {},
      "outputs": [
        {
          "name": "stdout",
          "output_type": "stream",
          "text": [
            "   symboling normalized_losses         make fuel_type aspiration num_doors  \\\n",
            "0          3                 ?  alfa-romero       gas        std       two   \n",
            "1          3                 ?  alfa-romero       gas        std       two   \n",
            "2          1                 ?  alfa-romero       gas        std       two   \n",
            "3          2               164         audi       gas        std      four   \n",
            "4          2               164         audi       gas        std      four   \n",
            "\n",
            "    body_style drive_wheels engine_location  wheel_base  ...  engine_size  \\\n",
            "0  convertible          rwd           front        88.6  ...          130   \n",
            "1  convertible          rwd           front        88.6  ...          130   \n",
            "2    hatchback          rwd           front        94.5  ...          152   \n",
            "3        sedan          fwd           front        99.8  ...          109   \n",
            "4        sedan          4wd           front        99.4  ...          136   \n",
            "\n",
            "   fuel_system  bore  stroke compression_ratio horsepower  peak_rpm city_mpg  \\\n",
            "0         mpfi  3.47    2.68               9.0        111      5000       21   \n",
            "1         mpfi  3.47    2.68               9.0        111      5000       21   \n",
            "2         mpfi  2.68    3.47               9.0        154      5000       19   \n",
            "3         mpfi  3.19    3.40              10.0        102      5500       24   \n",
            "4         mpfi  3.19    3.40               8.0        115      5500       18   \n",
            "\n",
            "  highway_mpg  price  \n",
            "0          27  13495  \n",
            "1          27  16500  \n",
            "2          26  16500  \n",
            "3          30  13950  \n",
            "4          22  17450  \n",
            "\n",
            "[5 rows x 26 columns]\n",
            "<class 'pandas.core.frame.DataFrame'>\n",
            "RangeIndex: 205 entries, 0 to 204\n",
            "Data columns (total 26 columns):\n",
            " #   Column             Non-Null Count  Dtype  \n",
            "---  ------             --------------  -----  \n",
            " 0   symboling          205 non-null    int64  \n",
            " 1   normalized_losses  205 non-null    object \n",
            " 2   make               205 non-null    object \n",
            " 3   fuel_type          205 non-null    object \n",
            " 4   aspiration         205 non-null    object \n",
            " 5   num_doors          205 non-null    object \n",
            " 6   body_style         205 non-null    object \n",
            " 7   drive_wheels       205 non-null    object \n",
            " 8   engine_location    205 non-null    object \n",
            " 9   wheel_base         205 non-null    float64\n",
            " 10  length             205 non-null    float64\n",
            " 11  width              205 non-null    float64\n",
            " 12  height             205 non-null    float64\n",
            " 13  curb_weight        205 non-null    int64  \n",
            " 14  engine_type        205 non-null    object \n",
            " 15  num_cylinders      205 non-null    object \n",
            " 16  engine_size        205 non-null    int64  \n",
            " 17  fuel_system        205 non-null    object \n",
            " 18  bore               205 non-null    object \n",
            " 19  stroke             205 non-null    object \n",
            " 20  compression_ratio  205 non-null    float64\n",
            " 21  horsepower         205 non-null    object \n",
            " 22  peak_rpm           205 non-null    object \n",
            " 23  city_mpg           205 non-null    int64  \n",
            " 24  highway_mpg        205 non-null    int64  \n",
            " 25  price              205 non-null    object \n",
            "dtypes: float64(5), int64(5), object(16)\n",
            "memory usage: 41.8+ KB\n",
            "None\n"
          ]
        }
      ],
      "source": [
        "import pandas as pd\n",
        "\n",
        "# URL of the dataset\n",
        "url = \"https://archive.ics.uci.edu/ml/machine-learning-databases/autos/imports-85.data\"\n",
        "\n",
        "# Column names from the dataset documentation\n",
        "columns = [\n",
        "    \"symboling\", \"normalized_losses\", \"make\", \"fuel_type\", \"aspiration\",\n",
        "    \"num_doors\", \"body_style\", \"drive_wheels\", \"engine_location\",\n",
        "    \"wheel_base\", \"length\", \"width\", \"height\", \"curb_weight\",\n",
        "    \"engine_type\", \"num_cylinders\", \"engine_size\", \"fuel_system\",\n",
        "    \"bore\", \"stroke\", \"compression_ratio\", \"horsepower\", \"peak_rpm\",\n",
        "    \"city_mpg\", \"highway_mpg\", \"price\"\n",
        "]\n",
        "\n",
        "# Load dataset\n",
        "df = pd.read_csv(url, names=columns)\n",
        "\n",
        "# Show basic info\n",
        "print(df.head())\n",
        "print(df.info())\n"
      ]
    },
    {
      "cell_type": "code",
      "execution_count": 15,
      "metadata": {},
      "outputs": [
        {
          "data": {
            "text/plain": [
              "(205, 26)"
            ]
          },
          "execution_count": 15,
          "metadata": {},
          "output_type": "execute_result"
        }
      ],
      "source": [
        "df.shape"
      ]
    },
    {
      "cell_type": "code",
      "execution_count": 21,
      "metadata": {},
      "outputs": [],
      "source": [
        "df['price'] = pd.to_numeric(df['price'], errors='coerce')"
      ]
    },
    {
      "cell_type": "code",
      "execution_count": 22,
      "metadata": {},
      "outputs": [
        {
          "name": "stdout",
          "output_type": "stream",
          "text": [
            "<class 'pandas.core.frame.DataFrame'>\n",
            "RangeIndex: 205 entries, 0 to 204\n",
            "Data columns (total 26 columns):\n",
            " #   Column             Non-Null Count  Dtype  \n",
            "---  ------             --------------  -----  \n",
            " 0   symboling          205 non-null    int64  \n",
            " 1   normalized_losses  205 non-null    object \n",
            " 2   make               205 non-null    object \n",
            " 3   fuel_type          205 non-null    object \n",
            " 4   aspiration         205 non-null    object \n",
            " 5   num_doors          205 non-null    object \n",
            " 6   body_style         205 non-null    object \n",
            " 7   drive_wheels       205 non-null    object \n",
            " 8   engine_location    205 non-null    object \n",
            " 9   wheel_base         205 non-null    float64\n",
            " 10  length             205 non-null    float64\n",
            " 11  width              205 non-null    float64\n",
            " 12  height             205 non-null    float64\n",
            " 13  curb_weight        205 non-null    int64  \n",
            " 14  engine_type        205 non-null    object \n",
            " 15  num_cylinders      205 non-null    object \n",
            " 16  engine_size        205 non-null    int64  \n",
            " 17  fuel_system        205 non-null    object \n",
            " 18  bore               205 non-null    object \n",
            " 19  stroke             205 non-null    object \n",
            " 20  compression_ratio  205 non-null    float64\n",
            " 21  horsepower         205 non-null    object \n",
            " 22  peak_rpm           205 non-null    object \n",
            " 23  city_mpg           205 non-null    int64  \n",
            " 24  highway_mpg        205 non-null    int64  \n",
            " 25  price              201 non-null    float64\n",
            "dtypes: float64(6), int64(5), object(15)\n",
            "memory usage: 41.8+ KB\n"
          ]
        }
      ],
      "source": [
        "df.info()"
      ]
    },
    {
      "cell_type": "code",
      "execution_count": 23,
      "metadata": {},
      "outputs": [
        {
          "data": {
            "image/png": "[encoded data removed]",
            "text/plain": [
              "<Figure size 640x480 with 1 Axes>"
            ]
          },
          "metadata": {},
          "output_type": "display_data"
        }
      ],
      "source": [
        "import matplotlib.pyplot as plt\n",
        "import numpy as np\n",
        "\n",
        "# Create the histogram\n",
        "plt.hist(df['price'], bins=30, edgecolor='black') # 'bins' controls the number of intervals\n",
        "plt.xlabel('Value')\n",
        "plt.ylabel('Frequency')\n",
        "plt.title('Distribution of Data')\n",
        "plt.show()"
      ]
    },
    {
      "cell_type": "code",
      "execution_count": 24,
      "metadata": {
        "colab": {
          "base_uri": "https://localhost:8080/"
        },
        "id": "Dy6OMlnsSEVv",
        "outputId": "f5f7c8c7-8232-417d-fc08-1169ae07e437"
      },
      "outputs": [
        {
          "name": "stdout",
          "output_type": "stream",
          "text": [
            "(201, 26)\n"
          ]
        }
      ],
      "source": [
        "df = df.dropna()\n",
        "print(df.shape)"
      ]
    },
    {
      "cell_type": "code",
      "execution_count": 25,
      "metadata": {},
      "outputs": [
        {
          "data": {
            "text/plain": [
              "Index(['symboling', 'normalized_losses', 'make', 'fuel_type', 'aspiration',\n",
              "       'num_doors', 'body_style', 'drive_wheels', 'engine_location',\n",
              "       'wheel_base', 'length', 'width', 'height', 'curb_weight', 'engine_type',\n",
              "       'num_cylinders', 'engine_size', 'fuel_system', 'bore', 'stroke',\n",
              "       'compression_ratio', 'horsepower', 'peak_rpm', 'city_mpg',\n",
              "       'highway_mpg', 'price'],\n",
              "      dtype='object')"
            ]
          },
          "execution_count": 25,
          "metadata": {},
          "output_type": "execute_result"
        }
      ],
      "source": [
        "df.columns"
      ]
    },
    {
      "cell_type": "code",
      "execution_count": 26,
      "metadata": {
        "colab": {
          "base_uri": "https://localhost:8080/"
        },
        "id": "I7HvfzeJRyaB",
        "outputId": "34d1151e-314f-441c-ffe9-65820c4d82fa"
      },
      "outputs": [
        {
          "name": "stdout",
          "output_type": "stream",
          "text": [
            "Root Mean Squared Error (RMSE): 2938.44\n",
            "R² Score: 0.93\n"
          ]
        }
      ],
      "source": [
        "# 4. Define features (X) and target (y)\n",
        "X = df.drop(columns=[\"price\"])\n",
        "y = df[\"price\"]\n",
        "\n",
        "# 5. Split data into train/test\n",
        "X_train, X_test, y_train, y_test = train_test_split(X, y, test_size=0.2, random_state=42)\n",
        "\n",
        "# 6. Identify categorical and numerical columns\n",
        "categorical_cols = X_train.select_dtypes(include=[\"object\"]).columns\n",
        "numerical_cols = X_train.select_dtypes(include=[\"int64\", \"float64\"]).columns\n",
        "\n",
        "# 7. Preprocessing: scale numbers, one-hot encode categories\n",
        "preprocessor = ColumnTransformer(\n",
        "    transformers=[\n",
        "        (\"num\", StandardScaler(), numerical_cols),\n",
        "        (\"cat\", OneHotEncoder(handle_unknown=\"ignore\"), categorical_cols)\n",
        "    ]\n",
        ")\n",
        "\n",
        "# 8. Build pipeline with preprocessing + model\n",
        "model = Pipeline(steps=[\n",
        "    (\"preprocessor\", preprocessor),\n",
        "    (\"regressor\", RandomForestRegressor(n_estimators=100, random_state=42))\n",
        "])\n",
        "\n",
        "# 9. Train model\n",
        "model.fit(X_train, y_train)\n",
        "\n",
        "# 10. Predict on test set\n",
        "y_pred = model.predict(X_test)\n",
        "\n",
        "# 11. Evaluate\n",
        "rmse = np.sqrt(mean_squared_error(y_test, y_pred))\n",
        "r2 = r2_score(y_test, y_pred)\n",
        "\n",
        "print(f\"Root Mean Squared Error (RMSE): {rmse:.2f}\")\n",
        "print(f\"R² Score: {r2:.2f}\")"
      ]
    },
    {
      "cell_type": "code",
      "execution_count": 27,
      "metadata": {},
      "outputs": [
        {
          "name": "stdout",
          "output_type": "stream",
          "text": [
            "✅ Model and metadata saved successfully!\n"
          ]
        }
      ],
      "source": [
        "import joblib\n",
        "# --------------------\n",
        "# Save model & metadata\n",
        "# --------------------\n",
        "joblib.dump(model, \"car_price_model.pkl\")\n",
        "\n",
        "metadata = {\n",
        "    \"categorical_cols\": categorical_cols,\n",
        "    \"numerical_cols\": numerical_cols\n",
        "}\n",
        "joblib.dump(metadata, \"metadata.pkl\")\n",
        "\n",
        "print(\"✅ Model and metadata saved successfully!\")"
      ]
    }
  ],
  "metadata": {
    "colab": {
      "provenance": []
    },
    "kernelspec": {
      "display_name": "Python 3",
      "name": "python3"
    },
    "language_info": {
      "codemirror_mode": {
        "name": "ipython",
        "version": 3
      },
      "file_extension": ".py",
      "mimetype": "text/x-python",
      "name": "python",
      "nbconvert_exporter": "python",
      "pygments_lexer": "ipython3",
      "version": "3.11.8"
    }
  },
  "nbformat": 4,
  "nbformat_minor": 0
}
